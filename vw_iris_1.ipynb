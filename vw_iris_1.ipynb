{
  "nbformat": 4,
  "nbformat_minor": 0,
  "metadata": {
    "colab": {
      "provenance": []
    },
    "kernelspec": {
      "name": "python3",
      "display_name": "Python 3"
    },
    "language_info": {
      "name": "python"
    },
    "accelerator": "GPU",
    "gpuClass": "standard"
  },
  "cells": [
    {
      "cell_type": "code",
      "source": [
        "!pip install vowpalwabbit\n",
        "!pip install sklearn"
      ],
      "metadata": {
        "colab": {
          "base_uri": "https://localhost:8080/"
        },
        "id": "gDMX2Z32avXB",
        "outputId": "d1ca61eb-e782-4828-e4b3-6b10e534e0a4"
      },
      "execution_count": null,
      "outputs": [
        {
          "output_type": "stream",
          "name": "stdout",
          "text": [
            "Looking in indexes: https://pypi.org/simple, https://us-python.pkg.dev/colab-wheels/public/simple/\n",
            "Collecting vowpalwabbit\n",
            "  Downloading vowpalwabbit-9.8.0-cp39-cp39-manylinux_2_12_x86_64.manylinux2010_x86_64.whl (3.3 MB)\n",
            "\u001b[2K     \u001b[90m━━━━━━━━━━━━━━━━━━━━━━━━━━━━━━━━━━━━━━━━\u001b[0m \u001b[32m3.3/3.3 MB\u001b[0m \u001b[31m16.3 MB/s\u001b[0m eta \u001b[36m0:00:00\u001b[0m\n",
            "\u001b[?25hInstalling collected packages: vowpalwabbit\n",
            "Successfully installed vowpalwabbit-9.8.0\n",
            "Looking in indexes: https://pypi.org/simple, https://us-python.pkg.dev/colab-wheels/public/simple/\n",
            "Collecting sklearn\n",
            "  Downloading sklearn-0.0.post1.tar.gz (3.6 kB)\n",
            "  Preparing metadata (setup.py) ... \u001b[?25l\u001b[?25hdone\n",
            "Building wheels for collected packages: sklearn\n",
            "  Building wheel for sklearn (setup.py) ... \u001b[?25l\u001b[?25hdone\n",
            "  Created wheel for sklearn: filename=sklearn-0.0.post1-py3-none-any.whl size=2955 sha256=9c4a43d9c15ad1855fb056747770a01e2eac6435e66a94f68097cd997cb509ed\n",
            "  Stored in directory: /root/.cache/pip/wheels/f8/e0/3d/9d0c2020c44a519b9f02ab4fa6d2a4a996c98d79ab2f569fa1\n",
            "Successfully built sklearn\n",
            "Installing collected packages: sklearn\n",
            "Successfully installed sklearn-0.0.post1\n"
          ]
        }
      ]
    },
    {
      "cell_type": "code",
      "execution_count": null,
      "metadata": {
        "id": "JaLtS0PmaXCZ"
      },
      "outputs": [],
      "source": [
        "import pandas as pd\n",
        "import sklearn\n",
        "import sklearn.model_selection\n",
        "import sklearn.datasets\n",
        "import vowpalwabbit"
      ]
    },
    {
      "cell_type": "code",
      "source": [
        "iris_dataset = sklearn.datasets.load_iris()\n",
        "iris_dataframe = pd.DataFrame(\n",
        "    data=iris_dataset.data, columns=iris_dataset.feature_names)\n",
        "# vw expects labels starting from 1\n",
        "iris_dataframe[\"y\"] = iris_dataset.target + 1\n",
        "training_data, testing_data = sklearn.model_selection.train_test_split(\n",
        "    iris_dataframe, test_size=0.2)"
      ],
      "metadata": {
        "id": "45pRbJyQafRH"
      },
      "execution_count": null,
      "outputs": []
    },
    {
      "cell_type": "code",
      "source": [],
      "metadata": {
        "id": "mrvoaeNRghyA"
      },
      "execution_count": null,
      "outputs": []
    },
    {
      "cell_type": "code",
      "source": [],
      "metadata": {
        "id": "MZp7Fw_Eghli"
      },
      "execution_count": null,
      "outputs": []
    },
    {
      "cell_type": "code",
      "source": [
        "def to_vw_format(row):\n",
        "    res = f'{int(row.y)} |'\n",
        "    for idx, value in row.drop(['y']).iteritems():\n",
        "        feature_name = idx.replace(' ', '_').replace('(', '').replace(')', '')\n",
        "        res += f' {feature_name}:{value}'\n",
        "    return res"
      ],
      "metadata": {
        "id": "hNTzZp13aij2"
      },
      "execution_count": null,
      "outputs": []
    },
    {
      "cell_type": "code",
      "source": [
        "for ex in training_data.head(10).apply(to_vw_format, axis=1):\n",
        "    print(ex)"
      ],
      "metadata": {
        "colab": {
          "base_uri": "https://localhost:8080/"
        },
        "id": "8mDVmcLkaihT",
        "outputId": "20524efd-d9b2-418c-9c50-c276f8cfc086"
      },
      "execution_count": null,
      "outputs": [
        {
          "output_type": "stream",
          "name": "stdout",
          "text": [
            "1 | sepal_length_cm:5.2 sepal_width_cm:3.5 petal_length_cm:1.5 petal_width_cm:0.2\n",
            "3 | sepal_length_cm:7.2 sepal_width_cm:3.6 petal_length_cm:6.1 petal_width_cm:2.5\n",
            "3 | sepal_length_cm:7.7 sepal_width_cm:3.8 petal_length_cm:6.7 petal_width_cm:2.2\n",
            "2 | sepal_length_cm:5.7 sepal_width_cm:2.6 petal_length_cm:3.5 petal_width_cm:1.0\n",
            "1 | sepal_length_cm:4.4 sepal_width_cm:2.9 petal_length_cm:1.4 petal_width_cm:0.2\n",
            "3 | sepal_length_cm:5.8 sepal_width_cm:2.7 petal_length_cm:5.1 petal_width_cm:1.9\n",
            "1 | sepal_length_cm:4.9 sepal_width_cm:3.1 petal_length_cm:1.5 petal_width_cm:0.2\n",
            "3 | sepal_length_cm:5.7 sepal_width_cm:2.5 petal_length_cm:5.0 petal_width_cm:2.0\n",
            "3 | sepal_length_cm:6.8 sepal_width_cm:3.2 petal_length_cm:5.9 petal_width_cm:2.3\n",
            "2 | sepal_length_cm:5.7 sepal_width_cm:2.9 petal_length_cm:4.2 petal_width_cm:1.3\n"
          ]
        }
      ]
    },
    {
      "cell_type": "code",
      "source": [
        "vw = vowpalwabbit.Workspace(\"--oaa 3 --quiet\")\n",
        "\n",
        "# learn from training set with multiple passes\n",
        "for i in range(10):\n",
        "  for example in training_data.apply(to_vw_format, axis=1):\n",
        "      vw.learn(example)\n",
        "\n",
        "# predict from the testing set\n",
        "predictions = []\n",
        "for example in testing_data.apply(to_vw_format, axis=1):\n",
        "    predicted_class = vw.predict(example)\n",
        "    predictions.append(predicted_class)"
      ],
      "metadata": {
        "id": "fQNv1vhGaifN"
      },
      "execution_count": null,
      "outputs": []
    },
    {
      "cell_type": "code",
      "source": [
        "accuracy = len(testing_data[testing_data.y == predictions]) / len(testing_data)\n",
        "\n",
        "print(f'Model accuracy {accuracy}')"
      ],
      "metadata": {
        "colab": {
          "base_uri": "https://localhost:8080/"
        },
        "id": "Yx3xJ5qVaicg",
        "outputId": "d2488b27-be8c-4138-e62d-b74555f98840"
      },
      "execution_count": null,
      "outputs": [
        {
          "output_type": "stream",
          "name": "stdout",
          "text": [
            "Model accuracy 0.9333333333333333\n"
          ]
        }
      ]
    }
  ]
}